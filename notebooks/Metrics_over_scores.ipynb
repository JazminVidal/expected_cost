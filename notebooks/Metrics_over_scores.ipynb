{
 "cells": [
  {
   "cell_type": "code",
   "execution_count": 1,
   "metadata": {},
   "outputs": [],
   "source": [
    "# Code used to create the results in section 4.7.1 of the paper \n",
    "# \"Analysis and Comparison of Classification Metrics\" \n",
    "\n",
    "import numpy as np\n",
    "import matplotlib.pyplot as plt\n",
    "import scipy.stats\n",
    "from scipy.special import expit, logit, logsumexp \n",
    "import sys\n",
    "sys.path.append(\"../\")\n",
    "from expected_cost import ec, utils, other_metrics\n",
    "from data import get_llks_for_multi_classif_task\n",
    "import re\n",
    "\n",
    "\n",
    "def plot_vertical_line(x, ylim, style):\n",
    "    plt.plot([x,x], ylim, style)\n",
    "\n",
    "def value_at_thr(values, thrs, sel_thr):\n",
    "    # Find the value in thrs that is closest to sel_thr\n",
    "    # and then return the value in values for that thr.\n",
    "    i = np.argmin(np.abs(np.array(thrs)-sel_thr))\n",
    "    return values[i]"
   ]
  },
  {
   "cell_type": "code",
   "execution_count": 3,
   "metadata": {},
   "outputs": [
    {
     "name": "stdout",
     "output_type": "stream",
     "text": [
      "\n",
      "**** Creating simulated data with Gaussian class distributions for 2 classes ****\n",
      "\n"
     ]
    },
    {
     "data": {
      "image/png": "[encoded data removed]",
      "text/plain": [
       "<Figure size 432x360 with 1 Axes>"
      ]
     },
     "metadata": {
      "needs_background": "light"
     },
     "output_type": "display_data"
    }
   ],
   "source": [
    "# Get likelihoods and then convert them to LLRs, because it makes them\n",
    "# nicer for plotting and for interpretation of the scores.\n",
    "\n",
    "sim_params={'feat_std':0.15, 'score_scale':0.5, 'score_shift': [0.5,0]}\n",
    "priors = [0.9, 0.1]\n",
    "targets, mis_llks, cal_llks = get_llks_for_multi_classif_task('gaussian_sim', priors=priors, sim_params=sim_params)\n",
    "\n",
    "# Get LLRs from calibrated and miscalibrated likelihoods\n",
    "mis_llrs = mis_llks[:,1] - mis_llks[:,0]\n",
    "cal_llrs = cal_llks[:,1] - cal_llks[:,0]\n",
    "\n",
    "# Number of samples from each class\n",
    "N0 = sum(targets==0)\n",
    "N1 = sum(targets==1)\n",
    "K = N0 + N1\n",
    "\n",
    "# Plot the resulting distributions\n",
    "plt.figure(figsize=(6,5))\n",
    "c, hs = utils.make_hist(targets, mis_llrs)\n",
    "plt.plot(c, hs[1], 'r-', label='miscalibrated scores')\n",
    "plt.plot(c, hs[0], 'r:')\n",
    "\n",
    "c, hs = utils.make_hist(targets, cal_llrs)\n",
    "plt.plot(c, hs[1], 'b-', label='calibrated scores')\n",
    "plt.plot(c, hs[0], 'b:')\n",
    "plt.legend()\n",
    "\n",
    "outdir = \"outputs/Metrics_over_scores\"\n",
    "utils.mkdir_p(outdir)\n",
    "plt.savefig(\"%s/score_dists.pdf\"%outdir)\n"
   ]
  },
  {
   "cell_type": "code",
   "execution_count": 4,
   "metadata": {},
   "outputs": [],
   "source": [
    "# Now, we take miscalibrated and calibrated llrs and choose a bunch \n",
    "# of different decision thresholds and compute a few metrics\n",
    "# for each case.\n",
    "score_dict = {'miscal_scores': mis_llrs, 'cal_scores': cal_llrs}\n",
    "\n",
    "# We consider two priors, the ones in the data and the uniform one\n",
    "priors_data = np.array([N0/K, N1/K])\n",
    "priors_unif = np.array([0.5, 0.5])\n",
    "\n",
    "# We consider to cost matrices, the usual 0-1 matrix\n",
    "# and one with a higher weight for K10\n",
    "costs_01 = ec.cost_matrix([[0, 1], [1, 0]])\n",
    "costs_0b = ec.cost_matrix([[0, 1], [2, 0]])\n",
    "\n",
    "colors = {'EC1': 'b', 'EC2': 'r', 'EC3': 'g', 'FS': 'k'} #, 'MCC': 'k'}\n",
    "metrics = colors.keys()"
   ]
  },
  {
   "cell_type": "code",
   "execution_count": 6,
   "metadata": {},
   "outputs": [
    {
     "name": "stdout",
     "output_type": "stream",
     "text": [
      "*** Metric values at different thresholds for miscal_scores\n",
      "esto es ERRE [[0.81767778 0.18232222]\n",
      " [0.046      0.954     ]]\n"
     ]
    },
    {
     "ename": "AttributeError",
     "evalue": "module 'expected_cost.utils' has no attribute 'Fscore'",
     "output_type": "error",
     "traceback": [
      "\u001b[0;31m---------------------------------------------------------------------------\u001b[0m",
      "\u001b[0;31mAttributeError\u001b[0m                            Traceback (most recent call last)",
      "\u001b[0;32m<ipython-input-6-0c4821852dd1>\u001b[0m in \u001b[0;36m<module>\u001b[0;34m\u001b[0m\n\u001b[1;32m     23\u001b[0m         \u001b[0mmetric_dict\u001b[0m\u001b[0;34m[\u001b[0m\u001b[0;34m'EC2'\u001b[0m\u001b[0;34m]\u001b[0m\u001b[0;34m.\u001b[0m\u001b[0mappend\u001b[0m\u001b[0;34m(\u001b[0m\u001b[0mec\u001b[0m\u001b[0;34m.\u001b[0m\u001b[0maverage_cost_from_confusion_matrix\u001b[0m\u001b[0;34m(\u001b[0m\u001b[0mR\u001b[0m\u001b[0;34m,\u001b[0m \u001b[0mpriors_data\u001b[0m\u001b[0;34m,\u001b[0m \u001b[0mcosts_01\u001b[0m\u001b[0;34m,\u001b[0m \u001b[0madjusted\u001b[0m\u001b[0;34m=\u001b[0m\u001b[0;32mTrue\u001b[0m\u001b[0;34m)\u001b[0m\u001b[0;34m)\u001b[0m\u001b[0;34m\u001b[0m\u001b[0;34m\u001b[0m\u001b[0m\n\u001b[1;32m     24\u001b[0m         \u001b[0mmetric_dict\u001b[0m\u001b[0;34m[\u001b[0m\u001b[0;34m'EC3'\u001b[0m\u001b[0;34m]\u001b[0m\u001b[0;34m.\u001b[0m\u001b[0mappend\u001b[0m\u001b[0;34m(\u001b[0m\u001b[0mec\u001b[0m\u001b[0;34m.\u001b[0m\u001b[0maverage_cost_from_confusion_matrix\u001b[0m\u001b[0;34m(\u001b[0m\u001b[0mR\u001b[0m\u001b[0;34m,\u001b[0m \u001b[0mpriors_data\u001b[0m\u001b[0;34m,\u001b[0m \u001b[0mcosts_0b\u001b[0m\u001b[0;34m,\u001b[0m \u001b[0madjusted\u001b[0m\u001b[0;34m=\u001b[0m\u001b[0;32mTrue\u001b[0m\u001b[0;34m)\u001b[0m\u001b[0;34m)\u001b[0m\u001b[0;34m\u001b[0m\u001b[0;34m\u001b[0m\u001b[0m\n\u001b[0;32m---> 25\u001b[0;31m         \u001b[0mmetric_dict\u001b[0m\u001b[0;34m[\u001b[0m\u001b[0;34m'FS'\u001b[0m\u001b[0;34m]\u001b[0m\u001b[0;34m.\u001b[0m\u001b[0mappend\u001b[0m\u001b[0;34m(\u001b[0m\u001b[0mutils\u001b[0m\u001b[0;34m.\u001b[0m\u001b[0mFscore\u001b[0m\u001b[0;34m(\u001b[0m\u001b[0mK10\u001b[0m\u001b[0;34m,\u001b[0m \u001b[0mK01\u001b[0m\u001b[0;34m,\u001b[0m \u001b[0mN0\u001b[0m\u001b[0;34m,\u001b[0m \u001b[0mN1\u001b[0m\u001b[0;34m)\u001b[0m\u001b[0;34m)\u001b[0m\u001b[0;34m\u001b[0m\u001b[0;34m\u001b[0m\u001b[0m\n\u001b[0m\u001b[1;32m     26\u001b[0m \u001b[0;34m\u001b[0m\u001b[0m\n\u001b[1;32m     27\u001b[0m \u001b[0;34m\u001b[0m\u001b[0m\n",
      "\u001b[0;31mAttributeError\u001b[0m: module 'expected_cost.utils' has no attribute 'Fscore'"
     ]
    }
   ],
   "source": [
    "for score_name, scores in score_dict.items():\n",
    "\n",
    "    print(f\"*** Metric values at different thresholds for {score_name}\")\n",
    "\n",
    "    # The dict below will accumulate a list of values for each threshold, for each metric\n",
    "    metric_dict = dict([(m, []) for m in metrics])\n",
    "\n",
    "    thrs = np.arange(-1,3,0.01)\n",
    "\n",
    "    for thr in thrs:\n",
    "\n",
    "        # Number of samples of class 0 with a score larger than the thr (ie, labelled as class 1)\n",
    "        K01 = np.sum(scores[targets==0]>thr)\n",
    "        # Number of samples of class 1 with a score smaller than the thr (ie, labelled as class 0)\n",
    "        K10 = np.sum(scores[targets==1]<thr)\n",
    "\n",
    "        # Get the normalized confusion matrix needed to compute the metrics\n",
    "        R = utils.compute_R_matrix_from_counts_for_binary_classif(K01, K10, N0, N1)\n",
    "        print(f\"esto es ERRE {R}\")\n",
    "\n",
    "        # Compute various metrics based on the confusion matrix\n",
    "        metric_dict['EC1'].append(ec.average_cost_from_confusion_matrix(R, priors_unif, costs_01, adjusted=True))\n",
    "        metric_dict['EC2'].append(ec.average_cost_from_confusion_matrix(R, priors_data, costs_01, adjusted=True))\n",
    "        metric_dict['EC3'].append(ec.average_cost_from_confusion_matrix(R, priors_data, costs_0b, adjusted=True))\n",
    "        metric_dict['FS'].append(other_metrics.Fscore(K10, K01, N0, N1))\n",
    "\n",
    "\n",
    "    for metric_name, metric_list in metric_dict.items():\n",
    "        metric_dict[metric_name] = np.array(metric_list)\n",
    "\n",
    "    plt.figure(figsize=(6,5))\n",
    "    plt.plot(thrs, metric_dict['EC1'], label=r'$\\mathrm{NEC}_u$', color=colors['EC1'])\n",
    "    plt.plot(thrs, metric_dict['EC2'], label=r'$\\mathrm{NEC}_{\\beta^2=1}$', color=colors['EC2'])\n",
    "    plt.plot(thrs, metric_dict['EC3'], label=r'$\\mathrm{NEC}_{\\beta^2=2}$', color=colors['EC3'])\n",
    "    plt.plot(thrs, 1-metric_dict['FS'], label=r'$1-\\mathrm{F}_{\\beta=1}$', color=colors['FS'])\n",
    "\n",
    "    # Compute the best and the Bayes (only for ECs) thresholds for each metric.\n",
    "    thr_dict = dict()\n",
    "    thr_dict['bayes_thr_for_EC1'] = utils.bayes_thr_for_llrs(priors_unif, costs_01)\n",
    "    thr_dict['bayes_thr_for_EC2'] = utils.bayes_thr_for_llrs(priors_data, costs_01)\n",
    "    thr_dict['bayes_thr_for_EC3'] = utils.bayes_thr_for_llrs(priors_data, costs_0b)\n",
    "    thr_dict['best_thr_for_EC1']  = thrs[np.nanargmin(metric_dict['EC1'])]\n",
    "    thr_dict['best_thr_for_EC2']  = thrs[np.nanargmin(metric_dict['EC2'])]\n",
    "    thr_dict['best_thr_for_EC3']  = thrs[np.nanargmin(metric_dict['EC3'])]\n",
    "    thr_dict['best_thr_for_FS']   = thrs[np.nanargmin(1-metric_dict['FS'])]\n",
    "\n",
    "    # Plot the curves\n",
    "    ylim = plt.ylim()\n",
    "    for metric in metrics:\n",
    "        utils.plot_vertical_line(\n",
    "            thr_dict[f'best_thr_for_{metric}'], ylim, f'{colors[metric]}:'\n",
    "        )\n",
    "        if 'EC' in metric:\n",
    "            utils.plot_vertical_line(\n",
    "                thr_dict[f'bayes_thr_for_{metric}'],\n",
    "                ylim,\n",
    "                f'{colors[metric]}--',\n",
    "            )\n",
    "    plt.xlabel(\"Threshold\")\n",
    "    plt.legend(loc='upper right')\n",
    "    plt.title(re.sub(\"cal\", \"calibrated\", re.sub(\"_\",\" \",score_name)))\n",
    "    plt.tight_layout()\n",
    "    plt.savefig(f\"{outdir}/{score_name}.pdf\")\n",
    "\n",
    "    # Now, print the value of every metric for every threshold above\n",
    "    print(\"    Threshold_type       (   Thr  )    \", end='')\n",
    "    for metric in metrics:\n",
    "        print(f\"{metric:5s}  \", end='')\n",
    "    print(\"\")\n",
    "\n",
    "    for thr_name, thr in thr_dict.items():\n",
    "        print(f\"    {thr_name:<20s} ( {thr:6.3f} )   \", end='')\n",
    "        for metric in metrics:\n",
    "            m = value_at_thr(metric_dict[metric], thrs, thr)\n",
    "            print(f\"{m:5.3f}  \", end='')\n",
    "        print(\"\")\n",
    "    print(\"\")"
   ]
  },
  {
   "cell_type": "markdown",
   "metadata": {},
   "source": [
    "In the table above we can see that:\n",
    "\n",
    "* The metrics are immune to calibration issues when computed for decisions made with thresholds optimized for that specific metric (e.g., the value of EC1 is the same before and after calibration for the \"best_thr_for_EC1\" decisions).\n",
    "* With F-score we have no direct way to tell if we have a calibration problem.\n",
    "* With EC, we can compare the metric for the bayes and the best threshold. If the first is much worse than \n",
    "  the latter, then we know we have a calibration problem.\n",
    "* The thresholds selected for EC1 are highly suboptimal for EC2, and conversely.\n",
    "* For this particular data, the decisions would be the same if we optimize the threshold for EC2 or F-score.\n",
    "\n",
    "You can play with the priors, costs, or score distribution parameters to see how the metrics change.\n",
    "Plots for all three metrics as a function of the threshold can be found in the output dir"
   ]
  },
  {
   "cell_type": "code",
   "execution_count": null,
   "metadata": {},
   "outputs": [],
   "source": []
  }
 ],
 "metadata": {
  "kernelspec": {
   "display_name": "Python 3",
   "language": "python",
   "name": "python3"
  },
  "language_info": {
   "codemirror_mode": {
    "name": "ipython",
    "version": 3
   },
   "file_extension": ".py",
   "mimetype": "text/x-python",
   "name": "python",
   "nbconvert_exporter": "python",
   "pygments_lexer": "ipython3",
   "version": "3.8.5"
  }
 },
 "nbformat": 4,
 "nbformat_minor": 2
}
